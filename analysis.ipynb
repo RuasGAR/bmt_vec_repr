{
 "cells": [
  {
   "attachments": {},
   "cell_type": "markdown",
   "metadata": {},
   "source": [
    "# Avaliação do Modelo"
   ]
  },
  {
   "attachments": {},
   "cell_type": "markdown",
   "metadata": {},
   "source": [
    "Esse notebook tem como objetivo a análise de desempenho do modelo vetorial construído anteriormente. Vamos explorar os resultados de forma gráfica e numérica, segmentando a análise em 2 partes principais: uma utilizando o Porter Stemmer no pré-processamento das consultas e da geração de lista invertida, e outra sem essa etapa.\n",
    "\n",
    "Em um primeiro momento, vamos construir funções generalistas, responsáveis por obter as medidas desejadas. Munidos dessas ferramentas auxiliares, vamos prosseguir para a análise individual comentada anteriormente. "
   ]
  },
  {
   "attachments": {},
   "cell_type": "markdown",
   "metadata": {},
   "source": [
    "## Imports e bibliotecas"
   ]
  },
  {
   "cell_type": "code",
   "execution_count": 84,
   "metadata": {},
   "outputs": [],
   "source": [
    "import os\n",
    "import matplotlib.pyplot as plt\n",
    "import pandas as pd\n",
    "import numpy as np\n",
    "import ast\n",
    "from sklearn.metrics import classification_report"
   ]
  },
  {
   "attachments": {},
   "cell_type": "markdown",
   "metadata": {},
   "source": [
    "### Funções de Utilidade"
   ]
  },
  {
   "attachments": {},
   "cell_type": "markdown",
   "metadata": {},
   "source": [
    "- Carregamento de arquivos"
   ]
  },
  {
   "cell_type": "code",
   "execution_count": 85,
   "metadata": {},
   "outputs": [],
   "source": [
    "def load_data(filepath, res=False):\n",
    "    if res == True:\n",
    "        data = pd.read_csv(f\"./results/{filepath}\", sep=\";\", converters={1:ast.literal_eval})\n",
    "    else:\n",
    "        data = pd.read_csv(f\"./results/{filepath}\", sep=\";\")\n",
    "    return data     "
   ]
  },
  {
   "attachments": {},
   "cell_type": "markdown",
   "metadata": {},
   "source": [
    "# Métricas (funções)"
   ]
  },
  {
   "attachments": {},
   "cell_type": "markdown",
   "metadata": {},
   "source": [
    "- Gráfico de 11 pontos de precisão e recall\n",
    "- F1-Score\n",
    "- Precision@5\n",
    "- Precision@10\n",
    "- Histograma de R-Precision (comparativo)\n",
    "- MAP\n",
    "- MRR\n",
    "- Discounted Cumulative Gain (médio)\n",
    "- Normalized Discounted Cumulative Gain \n"
   ]
  },
  {
   "attachments": {},
   "cell_type": "markdown",
   "metadata": {},
   "source": [
    "### 1 - Funções auxiliares"
   ]
  },
  {
   "attachments": {},
   "cell_type": "markdown",
   "metadata": {},
   "source": [
    "A primeira tríade de funções cobre a obtenção de dados relacionados a uma única consulta"
   ]
  },
  {
   "attachments": {},
   "cell_type": "markdown",
   "metadata": {},
   "source": [
    "#### 1.1 - Precisão"
   ]
  },
  {
   "cell_type": "code",
   "execution_count": 86,
   "metadata": {},
   "outputs": [],
   "source": [
    "def get_precision(y_model,y_target):\n",
    "    \n",
    "    hits = 0\n",
    "    for item in y_target:\n",
    "        if item in y_model:\n",
    "            hits += 1\n",
    "    if len(y_model) > 0:\n",
    "        return hits / len(y_model)\n",
    "    else:\n",
    "        return 0"
   ]
  },
  {
   "attachments": {},
   "cell_type": "markdown",
   "metadata": {},
   "source": [
    "#### 1.2 - Recall"
   ]
  },
  {
   "cell_type": "code",
   "execution_count": 87,
   "metadata": {},
   "outputs": [],
   "source": [
    "def get_recall(y_model, y_target, vp):\n",
    "    \n",
    "    fn = 0\n",
    "    for item in y_model:\n",
    "        if item not in y_target:\n",
    "            fn += 1\n",
    "    \n",
    "    if vp + fn != 0:\n",
    "        return vp/(vp+fn)\n",
    "    else:\n",
    "        return 0"
   ]
  },
  {
   "attachments": {},
   "cell_type": "markdown",
   "metadata": {},
   "source": [
    "#### 1.3 - F1 Score"
   ]
  },
  {
   "cell_type": "code",
   "execution_count": 88,
   "metadata": {},
   "outputs": [],
   "source": [
    "def f1_score(precision, recall):\n",
    "    return (2*precision*recall)/(precision+recall)"
   ]
  },
  {
   "attachments": {},
   "cell_type": "markdown",
   "metadata": {},
   "source": [
    "## Gráfico de precisão e recall (11 pontos)"
   ]
  },
  {
   "cell_type": "code",
   "execution_count": 89,
   "metadata": {},
   "outputs": [],
   "source": [
    "def plot_precision_and_recall(stats_dict, stem_flag):\n",
    "    \n",
    "    recall = [100*stats_dict[1][\"recall\"]]\n",
    "    precision = [100*stats_dict[1][\"precision\"]]\n",
    "\n",
    "    for i in range(10,101,10):\n",
    "        recall.append(100*stats_dict[i][\"recall\"])\n",
    "        precision.append(100*stats_dict[i][\"precision\"])\n",
    "\n",
    "\n",
    "    #plt.plot()\n",
    "    #plt.xlabel('Recall')\n",
    "    #plt.ylabel('Precision')\n",
    "    #plt.title(f'Precisão x Recall ({stem_flag})')"
   ]
  },
  {
   "attachments": {},
   "cell_type": "markdown",
   "metadata": {},
   "source": [
    "COM STEMMER"
   ]
  },
  {
   "attachments": {},
   "cell_type": "markdown",
   "metadata": {},
   "source": [
    "# Análise"
   ]
  },
  {
   "attachments": {},
   "cell_type": "markdown",
   "metadata": {},
   "source": [
    "## Utilizando Stemmer de Porter"
   ]
  },
  {
   "cell_type": "code",
   "execution_count": 90,
   "metadata": {},
   "outputs": [],
   "source": [
    "stemmed_results = load_data(\"results-STEMMER.csv\",res=True)\n",
    "stemmed_expected = load_data(\"expected-STEMMER.csv\")\n",
    "\n",
    "\n",
    "stats_dict = {}\n",
    "for i in range(1,len(stemmed_expected.index)):\n",
    "\n",
    "    y_target = stemmed_expected[stemmed_expected['QueryNumber'] == i]['DocNumber'].tolist()\n",
    "    y_predicted = stemmed_results[stemmed_results['QUERY_ID'] == i]['RESPONSE'].tolist()\n",
    "\n",
    "    y_model = [row[1] for row in y_predicted if row[2] > 0]\n",
    "    \n",
    "    stats_dict[i] = {\"precision\": get_precision(y_model, y_target)}\n",
    "    stats_dict[i][\"recall\"] = get_recall(y_model,y_target, stats_dict[i][\"precision\"])\n",
    "    \n",
    "    \n",
    "plot_precision_and_recall(stats_dict, \"STEMMER\")\n"
   ]
  },
  {
   "cell_type": "code",
   "execution_count": 91,
   "metadata": {},
   "outputs": [
    {
     "ename": "ZeroDivisionError",
     "evalue": "float division by zero",
     "output_type": "error",
     "traceback": [
      "\u001b[0;31m---------------------------------------------------------------------------\u001b[0m",
      "\u001b[0;31mZeroDivisionError\u001b[0m                         Traceback (most recent call last)",
      "\u001b[1;32m/home/ruasgar/Bureau/9 período/vetorial_ir/analysis.ipynb Cell 23\u001b[0m in \u001b[0;36m3\n\u001b[1;32m      <a href='vscode-notebook-cell:/home/ruasgar/Bureau/9%20per%C3%ADodo/vetorial_ir/analysis.ipynb#X24sZmlsZQ%3D%3D?line=0'>1</a>\u001b[0m \u001b[39mfor\u001b[39;00m query \u001b[39min\u001b[39;00m stats_dict\u001b[39m.\u001b[39mkeys():\n\u001b[1;32m      <a href='vscode-notebook-cell:/home/ruasgar/Bureau/9%20per%C3%ADodo/vetorial_ir/analysis.ipynb#X24sZmlsZQ%3D%3D?line=1'>2</a>\u001b[0m     precision, recall \u001b[39m=\u001b[39m stats_dict[query][\u001b[39m\"\u001b[39m\u001b[39mprecision\u001b[39m\u001b[39m\"\u001b[39m], stats_dict[query][\u001b[39m\"\u001b[39m\u001b[39mrecall\u001b[39m\u001b[39m\"\u001b[39m]\n\u001b[0;32m----> <a href='vscode-notebook-cell:/home/ruasgar/Bureau/9%20per%C3%ADodo/vetorial_ir/analysis.ipynb#X24sZmlsZQ%3D%3D?line=2'>3</a>\u001b[0m     q_f1 \u001b[39m=\u001b[39m f1_score(precision, recall)\n\u001b[1;32m      <a href='vscode-notebook-cell:/home/ruasgar/Bureau/9%20per%C3%ADodo/vetorial_ir/analysis.ipynb#X24sZmlsZQ%3D%3D?line=3'>4</a>\u001b[0m     stats_dict[query][\u001b[39m'\u001b[39m\u001b[39mf1_score\u001b[39m\u001b[39m'\u001b[39m] \u001b[39m=\u001b[39m q_f1\n\u001b[1;32m      <a href='vscode-notebook-cell:/home/ruasgar/Bureau/9%20per%C3%ADodo/vetorial_ir/analysis.ipynb#X24sZmlsZQ%3D%3D?line=5'>6</a>\u001b[0m stats_df_stem \u001b[39m=\u001b[39m pd\u001b[39m.\u001b[39mDataFrame\u001b[39m.\u001b[39mfrom_dict(stats_dict)\n",
      "\u001b[1;32m/home/ruasgar/Bureau/9 período/vetorial_ir/analysis.ipynb Cell 23\u001b[0m in \u001b[0;36m2\n\u001b[1;32m      <a href='vscode-notebook-cell:/home/ruasgar/Bureau/9%20per%C3%ADodo/vetorial_ir/analysis.ipynb#X24sZmlsZQ%3D%3D?line=0'>1</a>\u001b[0m \u001b[39mdef\u001b[39;00m \u001b[39mf1_score\u001b[39m(precision, recall):\n\u001b[0;32m----> <a href='vscode-notebook-cell:/home/ruasgar/Bureau/9%20per%C3%ADodo/vetorial_ir/analysis.ipynb#X24sZmlsZQ%3D%3D?line=1'>2</a>\u001b[0m     \u001b[39mreturn\u001b[39;00m (\u001b[39m2\u001b[39;49m\u001b[39m*\u001b[39;49mprecision\u001b[39m*\u001b[39;49mrecall)\u001b[39m/\u001b[39;49m(precision\u001b[39m+\u001b[39;49mrecall)\n",
      "\u001b[0;31mZeroDivisionError\u001b[0m: float division by zero"
     ]
    }
   ],
   "source": [
    "for query in stats_dict.keys():\n",
    "    precision, recall = stats_dict[query][\"precision\"], stats_dict[query][\"recall\"]\n",
    "    q_f1 = f1_score(precision, recall)\n",
    "    stats_dict[query]['f1_score'] = q_f1\n",
    "\n",
    "stats_df_stem = pd.DataFrame.from_dict(stats_dict)"
   ]
  },
  {
   "attachments": {},
   "cell_type": "markdown",
   "metadata": {},
   "source": [
    "## Sem Stemmer de Porter"
   ]
  },
  {
   "attachments": {},
   "cell_type": "markdown",
   "metadata": {},
   "source": []
  }
 ],
 "metadata": {
  "kernelspec": {
   "display_name": "Python 3",
   "language": "python",
   "name": "python3"
  },
  "language_info": {
   "codemirror_mode": {
    "name": "ipython",
    "version": 3
   },
   "file_extension": ".py",
   "mimetype": "text/x-python",
   "name": "python",
   "nbconvert_exporter": "python",
   "pygments_lexer": "ipython3",
   "version": "3.8.10"
  },
  "orig_nbformat": 4
 },
 "nbformat": 4,
 "nbformat_minor": 2
}
