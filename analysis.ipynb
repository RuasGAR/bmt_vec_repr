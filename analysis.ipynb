{
 "cells": [
  {
   "attachments": {},
   "cell_type": "markdown",
   "metadata": {},
   "source": [
    "# Avaliação do Modelo"
   ]
  },
  {
   "attachments": {},
   "cell_type": "markdown",
   "metadata": {},
   "source": [
    "Esse notebook tem como objetivo a análise de desempenho do modelo vetorial construído anteriormente. Vamos explorar os resultados de forma gráfica e numérica, segmentando a análise em 2 partes principais: uma utilizando o Porter Stemmer no pré-processamento das consultas e da geração de lista invertida, e outra sem essa etapa.\n",
    "\n",
    "Em um primeiro momento, vamos construir funções de utilidade capazes de realizar as medidas requeridas "
   ]
  }
 ],
 "metadata": {
  "language_info": {
   "name": "python"
  },
  "orig_nbformat": 4
 },
 "nbformat": 4,
 "nbformat_minor": 2
}
